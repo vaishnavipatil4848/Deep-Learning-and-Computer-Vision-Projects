{
 "cells": [
  {
   "cell_type": "code",
   "execution_count": 1,
   "id": "bfdfecff",
   "metadata": {
    "_cell_guid": "b1076dfc-b9ad-4769-8c92-a6c4dae69d19",
    "_uuid": "8f2839f25d086af736a60e9eeb907d3b93b6e0e5",
    "execution": {
     "iopub.execute_input": "2024-07-14T12:58:52.465489Z",
     "iopub.status.busy": "2024-07-14T12:58:52.464915Z",
     "iopub.status.idle": "2024-07-14T12:58:53.369051Z",
     "shell.execute_reply": "2024-07-14T12:58:53.367956Z"
    },
    "papermill": {
     "duration": 0.912854,
     "end_time": "2024-07-14T12:58:53.371286",
     "exception": false,
     "start_time": "2024-07-14T12:58:52.458432",
     "status": "completed"
    },
    "tags": []
   },
   "outputs": [
    {
     "name": "stdout",
     "output_type": "stream",
     "text": [
      "/kaggle/input/imdb-50k-movie-reviews-test-your-bert/train.csv\n",
      "/kaggle/input/imdb-50k-movie-reviews-test-your-bert/test.csv\n"
     ]
    }
   ],
   "source": [
    "import numpy as np # linear algebra\n",
    "import pandas as pd # data processing, CSV file I/O (e.g. pd.read_csv)\n",
    "\n",
    "import os\n",
    "for dirname, _, filenames in os.walk('/kaggle/input'):\n",
    "    for filename in filenames:\n",
    "        print(os.path.join(dirname, filename))"
   ]
  },
  {
   "cell_type": "code",
   "execution_count": 2,
   "id": "6c40f0e6",
   "metadata": {
    "execution": {
     "iopub.execute_input": "2024-07-14T12:58:53.382616Z",
     "iopub.status.busy": "2024-07-14T12:58:53.382200Z",
     "iopub.status.idle": "2024-07-14T12:59:08.254495Z",
     "shell.execute_reply": "2024-07-14T12:59:08.253666Z"
    },
    "papermill": {
     "duration": 14.880493,
     "end_time": "2024-07-14T12:59:08.257045",
     "exception": false,
     "start_time": "2024-07-14T12:58:53.376552",
     "status": "completed"
    },
    "tags": []
   },
   "outputs": [
    {
     "name": "stderr",
     "output_type": "stream",
     "text": [
      "2024-07-14 12:58:57.052523: E external/local_xla/xla/stream_executor/cuda/cuda_dnn.cc:9261] Unable to register cuDNN factory: Attempting to register factory for plugin cuDNN when one has already been registered\n",
      "2024-07-14 12:58:57.052674: E external/local_xla/xla/stream_executor/cuda/cuda_fft.cc:607] Unable to register cuFFT factory: Attempting to register factory for plugin cuFFT when one has already been registered\n",
      "2024-07-14 12:58:57.223949: E external/local_xla/xla/stream_executor/cuda/cuda_blas.cc:1515] Unable to register cuBLAS factory: Attempting to register factory for plugin cuBLAS when one has already been registered\n"
     ]
    }
   ],
   "source": [
    "from sklearn.model_selection import train_test_split\n",
    "from sklearn.preprocessing import LabelEncoder\n",
    "from tensorflow.keras.preprocessing.text import Tokenizer\n",
    "from tensorflow.keras.preprocessing.sequence import pad_sequences\n",
    "from keras.models import Sequential\n",
    "from tensorflow.keras.layers import Embedding, LSTM, Dense, Dropout\n",
    "from tensorflow.keras.utils import to_categorical\n",
    "from tensorflow.keras.callbacks import EarlyStopping"
   ]
  },
  {
   "cell_type": "code",
   "execution_count": 3,
   "id": "a73c67aa",
   "metadata": {
    "execution": {
     "iopub.execute_input": "2024-07-14T12:59:08.270332Z",
     "iopub.status.busy": "2024-07-14T12:59:08.269805Z",
     "iopub.status.idle": "2024-07-14T12:59:08.274398Z",
     "shell.execute_reply": "2024-07-14T12:59:08.273511Z"
    },
    "papermill": {
     "duration": 0.013751,
     "end_time": "2024-07-14T12:59:08.276495",
     "exception": false,
     "start_time": "2024-07-14T12:59:08.262744",
     "status": "completed"
    },
    "tags": []
   },
   "outputs": [],
   "source": [
    "train_dir = '/kaggle/input/imdb-50k-movie-reviews-test-your-bert/train.csv'\n",
    "test_dir = '/kaggle/input/imdb-50k-movie-reviews-test-your-bert/test.csv'"
   ]
  },
  {
   "cell_type": "code",
   "execution_count": 4,
   "id": "c9fea69a",
   "metadata": {
    "execution": {
     "iopub.execute_input": "2024-07-14T12:59:08.287590Z",
     "iopub.status.busy": "2024-07-14T12:59:08.287273Z",
     "iopub.status.idle": "2024-07-14T12:59:09.674829Z",
     "shell.execute_reply": "2024-07-14T12:59:09.673887Z"
    },
    "papermill": {
     "duration": 1.395642,
     "end_time": "2024-07-14T12:59:09.677035",
     "exception": false,
     "start_time": "2024-07-14T12:59:08.281393",
     "status": "completed"
    },
    "tags": []
   },
   "outputs": [
    {
     "data": {
      "text/html": [
       "<div>\n",
       "<style scoped>\n",
       "    .dataframe tbody tr th:only-of-type {\n",
       "        vertical-align: middle;\n",
       "    }\n",
       "\n",
       "    .dataframe tbody tr th {\n",
       "        vertical-align: top;\n",
       "    }\n",
       "\n",
       "    .dataframe thead th {\n",
       "        text-align: right;\n",
       "    }\n",
       "</style>\n",
       "<table border=\"1\" class=\"dataframe\">\n",
       "  <thead>\n",
       "    <tr style=\"text-align: right;\">\n",
       "      <th></th>\n",
       "      <th>text</th>\n",
       "      <th>sentiment</th>\n",
       "    </tr>\n",
       "  </thead>\n",
       "  <tbody>\n",
       "    <tr>\n",
       "      <th>0</th>\n",
       "      <td>Now, I won't deny that when I purchased this o...</td>\n",
       "      <td>neg</td>\n",
       "    </tr>\n",
       "    <tr>\n",
       "      <th>1</th>\n",
       "      <td>The saddest thing about this \"tribute\" is that...</td>\n",
       "      <td>neg</td>\n",
       "    </tr>\n",
       "    <tr>\n",
       "      <th>2</th>\n",
       "      <td>Last night I decided to watch the prequel or s...</td>\n",
       "      <td>neg</td>\n",
       "    </tr>\n",
       "    <tr>\n",
       "      <th>3</th>\n",
       "      <td>I have to admit that i liked the first half of...</td>\n",
       "      <td>neg</td>\n",
       "    </tr>\n",
       "    <tr>\n",
       "      <th>4</th>\n",
       "      <td>I was not impressed about this film especially...</td>\n",
       "      <td>neg</td>\n",
       "    </tr>\n",
       "  </tbody>\n",
       "</table>\n",
       "</div>"
      ],
      "text/plain": [
       "                                                text sentiment\n",
       "0  Now, I won't deny that when I purchased this o...       neg\n",
       "1  The saddest thing about this \"tribute\" is that...       neg\n",
       "2  Last night I decided to watch the prequel or s...       neg\n",
       "3  I have to admit that i liked the first half of...       neg\n",
       "4  I was not impressed about this film especially...       neg"
      ]
     },
     "execution_count": 4,
     "metadata": {},
     "output_type": "execute_result"
    }
   ],
   "source": [
    "train_df = pd.read_csv(train_dir)\n",
    "test_df = pd.read_csv(test_dir)\n",
    "train_df.head()"
   ]
  },
  {
   "cell_type": "code",
   "execution_count": 5,
   "id": "4c6198a0",
   "metadata": {
    "execution": {
     "iopub.execute_input": "2024-07-14T12:59:09.688700Z",
     "iopub.status.busy": "2024-07-14T12:59:09.688357Z",
     "iopub.status.idle": "2024-07-14T12:59:09.702064Z",
     "shell.execute_reply": "2024-07-14T12:59:09.701041Z"
    },
    "papermill": {
     "duration": 0.021973,
     "end_time": "2024-07-14T12:59:09.704199",
     "exception": false,
     "start_time": "2024-07-14T12:59:09.682226",
     "status": "completed"
    },
    "tags": []
   },
   "outputs": [],
   "source": [
    "le = LabelEncoder()\n",
    "train_df['sentiment_enc'] = le.fit_transform(train_df['sentiment'])\n",
    "X = train_df['text']\n",
    "y = to_categorical(train_df['sentiment_enc'])"
   ]
  },
  {
   "cell_type": "code",
   "execution_count": 6,
   "id": "bb36ba21",
   "metadata": {
    "execution": {
     "iopub.execute_input": "2024-07-14T12:59:09.715320Z",
     "iopub.status.busy": "2024-07-14T12:59:09.715067Z",
     "iopub.status.idle": "2024-07-14T12:59:09.720606Z",
     "shell.execute_reply": "2024-07-14T12:59:09.719672Z"
    },
    "papermill": {
     "duration": 0.014248,
     "end_time": "2024-07-14T12:59:09.723424",
     "exception": false,
     "start_time": "2024-07-14T12:59:09.709176",
     "status": "completed"
    },
    "tags": []
   },
   "outputs": [
    {
     "name": "stdout",
     "output_type": "stream",
     "text": [
      "0        Now, I won't deny that when I purchased this o...\n",
      "1        The saddest thing about this \"tribute\" is that...\n",
      "2        Last night I decided to watch the prequel or s...\n",
      "3        I have to admit that i liked the first half of...\n",
      "4        I was not impressed about this film especially...\n",
      "                               ...                        \n",
      "24995    This film is fun, if your a person who likes a...\n",
      "24996    After seeing this film I feel like I know just...\n",
      "24997    first this deserves about 5 stars due to actin...\n",
      "24998    If you like films that ramble with little plot...\n",
      "24999    As interesting as a sheet of cardboard, this d...\n",
      "Name: text, Length: 25000, dtype: object\n"
     ]
    }
   ],
   "source": [
    "print(X)"
   ]
  },
  {
   "cell_type": "code",
   "execution_count": 7,
   "id": "eb81b7e7",
   "metadata": {
    "execution": {
     "iopub.execute_input": "2024-07-14T12:59:09.736112Z",
     "iopub.status.busy": "2024-07-14T12:59:09.735840Z",
     "iopub.status.idle": "2024-07-14T12:59:09.740659Z",
     "shell.execute_reply": "2024-07-14T12:59:09.739820Z"
    },
    "papermill": {
     "duration": 0.014105,
     "end_time": "2024-07-14T12:59:09.743207",
     "exception": false,
     "start_time": "2024-07-14T12:59:09.729102",
     "status": "completed"
    },
    "tags": []
   },
   "outputs": [
    {
     "name": "stdout",
     "output_type": "stream",
     "text": [
      "[[1. 0.]\n",
      " [1. 0.]\n",
      " [1. 0.]\n",
      " ...\n",
      " [1. 0.]\n",
      " [1. 0.]\n",
      " [1. 0.]]\n"
     ]
    }
   ],
   "source": [
    "print(y)"
   ]
  },
  {
   "cell_type": "code",
   "execution_count": 8,
   "id": "24d1c2b5",
   "metadata": {
    "execution": {
     "iopub.execute_input": "2024-07-14T12:59:09.756096Z",
     "iopub.status.busy": "2024-07-14T12:59:09.755815Z",
     "iopub.status.idle": "2024-07-14T12:59:09.762385Z",
     "shell.execute_reply": "2024-07-14T12:59:09.761517Z"
    },
    "papermill": {
     "duration": 0.015601,
     "end_time": "2024-07-14T12:59:09.764519",
     "exception": false,
     "start_time": "2024-07-14T12:59:09.748918",
     "status": "completed"
    },
    "tags": []
   },
   "outputs": [],
   "source": [
    "def plot_model_learning(history, title):\n",
    "    fig, ax = plt.subplots(2, 1, figsize=(20, 8))\n",
    "    df = pd.DataFrame(history.history)\n",
    "    df[['accuracy', 'val_accuracy']].plot(ax=ax[0])\n",
    "    df[['loss', 'val_loss']].plot(ax=ax[1])\n",
    "    ax[0].set_title('Model Accuracy', fontsize=12)\n",
    "    ax[1].set_title('Model Loss', fontsize=12)\n",
    "    fig.suptitle(f'{title}: Model Metrics', fontsize=18)"
   ]
  },
  {
   "cell_type": "code",
   "execution_count": 9,
   "id": "894e92b3",
   "metadata": {
    "execution": {
     "iopub.execute_input": "2024-07-14T12:59:09.775948Z",
     "iopub.status.busy": "2024-07-14T12:59:09.775681Z",
     "iopub.status.idle": "2024-07-14T12:59:19.074587Z",
     "shell.execute_reply": "2024-07-14T12:59:19.073608Z"
    },
    "papermill": {
     "duration": 9.307531,
     "end_time": "2024-07-14T12:59:19.077170",
     "exception": false,
     "start_time": "2024-07-14T12:59:09.769639",
     "status": "completed"
    },
    "tags": []
   },
   "outputs": [],
   "source": [
    "from keras.utils import plot_model\n",
    "import matplotlib.pyplot as plt\n",
    "\n",
    "X_train, X_test, y_train, y_test = train_test_split(X, y, test_size=0.2, random_state= 42)\n",
    "\n",
    "max_words = 10000\n",
    "max_sequence_length = 200\n",
    "tokenizer = Tokenizer(num_words = max_words)\n",
    "tokenizer.fit_on_texts(X_train)\n",
    "X_train_seq = tokenizer.texts_to_sequences(X_train)\n",
    "X_test_seq = tokenizer.texts_to_sequences(X_test)\n",
    "X_train_pd = pad_sequences(X_train_seq, maxlen=max_sequence_length)\n",
    "X_test_pd = pad_sequences(X_test_seq, maxlen=max_sequence_length)"
   ]
  },
  {
   "cell_type": "code",
   "execution_count": 10,
   "id": "4eaad84d",
   "metadata": {
    "execution": {
     "iopub.execute_input": "2024-07-14T12:59:19.090242Z",
     "iopub.status.busy": "2024-07-14T12:59:19.089473Z",
     "iopub.status.idle": "2024-07-14T13:00:34.408948Z",
     "shell.execute_reply": "2024-07-14T13:00:34.407954Z"
    },
    "papermill": {
     "duration": 75.328622,
     "end_time": "2024-07-14T13:00:34.411574",
     "exception": false,
     "start_time": "2024-07-14T12:59:19.082952",
     "status": "completed"
    },
    "tags": []
   },
   "outputs": [
    {
     "name": "stderr",
     "output_type": "stream",
     "text": [
      "/opt/conda/lib/python3.10/site-packages/keras/src/layers/core/embedding.py:90: UserWarning: Argument `input_length` is deprecated. Just remove it.\n",
      "  warnings.warn(\n"
     ]
    },
    {
     "data": {
      "text/html": [
       "<pre style=\"white-space:pre;overflow-x:auto;line-height:normal;font-family:Menlo,'DejaVu Sans Mono',consolas,'Courier New',monospace\"><span style=\"font-weight: bold\">Model: \"sequential\"</span>\n",
       "</pre>\n"
      ],
      "text/plain": [
       "\u001b[1mModel: \"sequential\"\u001b[0m\n"
      ]
     },
     "metadata": {},
     "output_type": "display_data"
    },
    {
     "data": {
      "text/html": [
       "<pre style=\"white-space:pre;overflow-x:auto;line-height:normal;font-family:Menlo,'DejaVu Sans Mono',consolas,'Courier New',monospace\">┏━━━━━━━━━━━━━━━━━━━━━━━━━━━━━━━━━┳━━━━━━━━━━━━━━━━━━━━━━━━┳━━━━━━━━━━━━━━━┓\n",
       "┃<span style=\"font-weight: bold\"> Layer (type)                    </span>┃<span style=\"font-weight: bold\"> Output Shape           </span>┃<span style=\"font-weight: bold\">       Param # </span>┃\n",
       "┡━━━━━━━━━━━━━━━━━━━━━━━━━━━━━━━━━╇━━━━━━━━━━━━━━━━━━━━━━━━╇━━━━━━━━━━━━━━━┩\n",
       "│ embedding (<span style=\"color: #0087ff; text-decoration-color: #0087ff\">Embedding</span>)           │ ?                      │   <span style=\"color: #00af00; text-decoration-color: #00af00\">0</span> (unbuilt) │\n",
       "├─────────────────────────────────┼────────────────────────┼───────────────┤\n",
       "│ lstm (<span style=\"color: #0087ff; text-decoration-color: #0087ff\">LSTM</span>)                     │ ?                      │   <span style=\"color: #00af00; text-decoration-color: #00af00\">0</span> (unbuilt) │\n",
       "├─────────────────────────────────┼────────────────────────┼───────────────┤\n",
       "│ lstm_1 (<span style=\"color: #0087ff; text-decoration-color: #0087ff\">LSTM</span>)                   │ ?                      │   <span style=\"color: #00af00; text-decoration-color: #00af00\">0</span> (unbuilt) │\n",
       "├─────────────────────────────────┼────────────────────────┼───────────────┤\n",
       "│ dense (<span style=\"color: #0087ff; text-decoration-color: #0087ff\">Dense</span>)                   │ ?                      │   <span style=\"color: #00af00; text-decoration-color: #00af00\">0</span> (unbuilt) │\n",
       "└─────────────────────────────────┴────────────────────────┴───────────────┘\n",
       "</pre>\n"
      ],
      "text/plain": [
       "┏━━━━━━━━━━━━━━━━━━━━━━━━━━━━━━━━━┳━━━━━━━━━━━━━━━━━━━━━━━━┳━━━━━━━━━━━━━━━┓\n",
       "┃\u001b[1m \u001b[0m\u001b[1mLayer (type)                   \u001b[0m\u001b[1m \u001b[0m┃\u001b[1m \u001b[0m\u001b[1mOutput Shape          \u001b[0m\u001b[1m \u001b[0m┃\u001b[1m \u001b[0m\u001b[1m      Param #\u001b[0m\u001b[1m \u001b[0m┃\n",
       "┡━━━━━━━━━━━━━━━━━━━━━━━━━━━━━━━━━╇━━━━━━━━━━━━━━━━━━━━━━━━╇━━━━━━━━━━━━━━━┩\n",
       "│ embedding (\u001b[38;5;33mEmbedding\u001b[0m)           │ ?                      │   \u001b[38;5;34m0\u001b[0m (unbuilt) │\n",
       "├─────────────────────────────────┼────────────────────────┼───────────────┤\n",
       "│ lstm (\u001b[38;5;33mLSTM\u001b[0m)                     │ ?                      │   \u001b[38;5;34m0\u001b[0m (unbuilt) │\n",
       "├─────────────────────────────────┼────────────────────────┼───────────────┤\n",
       "│ lstm_1 (\u001b[38;5;33mLSTM\u001b[0m)                   │ ?                      │   \u001b[38;5;34m0\u001b[0m (unbuilt) │\n",
       "├─────────────────────────────────┼────────────────────────┼───────────────┤\n",
       "│ dense (\u001b[38;5;33mDense\u001b[0m)                   │ ?                      │   \u001b[38;5;34m0\u001b[0m (unbuilt) │\n",
       "└─────────────────────────────────┴────────────────────────┴───────────────┘\n"
      ]
     },
     "metadata": {},
     "output_type": "display_data"
    },
    {
     "data": {
      "text/html": [
       "<pre style=\"white-space:pre;overflow-x:auto;line-height:normal;font-family:Menlo,'DejaVu Sans Mono',consolas,'Courier New',monospace\"><span style=\"font-weight: bold\"> Total params: </span><span style=\"color: #00af00; text-decoration-color: #00af00\">0</span> (0.00 B)\n",
       "</pre>\n"
      ],
      "text/plain": [
       "\u001b[1m Total params: \u001b[0m\u001b[38;5;34m0\u001b[0m (0.00 B)\n"
      ]
     },
     "metadata": {},
     "output_type": "display_data"
    },
    {
     "data": {
      "text/html": [
       "<pre style=\"white-space:pre;overflow-x:auto;line-height:normal;font-family:Menlo,'DejaVu Sans Mono',consolas,'Courier New',monospace\"><span style=\"font-weight: bold\"> Trainable params: </span><span style=\"color: #00af00; text-decoration-color: #00af00\">0</span> (0.00 B)\n",
       "</pre>\n"
      ],
      "text/plain": [
       "\u001b[1m Trainable params: \u001b[0m\u001b[38;5;34m0\u001b[0m (0.00 B)\n"
      ]
     },
     "metadata": {},
     "output_type": "display_data"
    },
    {
     "data": {
      "text/html": [
       "<pre style=\"white-space:pre;overflow-x:auto;line-height:normal;font-family:Menlo,'DejaVu Sans Mono',consolas,'Courier New',monospace\"><span style=\"font-weight: bold\"> Non-trainable params: </span><span style=\"color: #00af00; text-decoration-color: #00af00\">0</span> (0.00 B)\n",
       "</pre>\n"
      ],
      "text/plain": [
       "\u001b[1m Non-trainable params: \u001b[0m\u001b[38;5;34m0\u001b[0m (0.00 B)\n"
      ]
     },
     "metadata": {},
     "output_type": "display_data"
    },
    {
     "name": "stdout",
     "output_type": "stream",
     "text": [
      "Epoch 1/10\n",
      "\u001b[1m1000/1000\u001b[0m \u001b[32m━━━━━━━━━━━━━━━━━━━━\u001b[0m\u001b[37m\u001b[0m \u001b[1m22s\u001b[0m 18ms/step - accuracy: 0.7201 - loss: 0.5309 - val_accuracy: 0.8575 - val_loss: 0.3377\n",
      "Epoch 2/10\n",
      "\u001b[1m1000/1000\u001b[0m \u001b[32m━━━━━━━━━━━━━━━━━━━━\u001b[0m\u001b[37m\u001b[0m \u001b[1m17s\u001b[0m 17ms/step - accuracy: 0.8934 - loss: 0.2711 - val_accuracy: 0.8248 - val_loss: 0.3906\n",
      "Epoch 3/10\n",
      "\u001b[1m1000/1000\u001b[0m \u001b[32m━━━━━━━━━━━━━━━━━━━━\u001b[0m\u001b[37m\u001b[0m \u001b[1m17s\u001b[0m 17ms/step - accuracy: 0.9290 - loss: 0.1896 - val_accuracy: 0.8250 - val_loss: 0.3968\n",
      "Epoch 4/10\n",
      "\u001b[1m1000/1000\u001b[0m \u001b[32m━━━━━━━━━━━━━━━━━━━━\u001b[0m\u001b[37m\u001b[0m \u001b[1m17s\u001b[0m 17ms/step - accuracy: 0.9601 - loss: 0.1140 - val_accuracy: 0.8620 - val_loss: 0.4176\n"
     ]
    },
    {
     "data": {
      "image/png": "[encoded data removed]",
      "text/plain": [
       "<Figure size 2000x800 with 2 Axes>"
      ]
     },
     "metadata": {},
     "output_type": "display_data"
    }
   ],
   "source": [
    "embedding_dim = 100  # Dimensionality of word embeddings\n",
    "model = Sequential()\n",
    "model.add(Embedding(max_words, embedding_dim, input_length=max_sequence_length))\n",
    "model.add(LSTM(100, return_sequences=True))\n",
    "model.add(LSTM(100))\n",
    "model.add(Dense(2, activation='softmax'))  # 2 output classes (binary classification)\n",
    "\n",
    "# Compile the Model\n",
    "model.compile(loss='categorical_crossentropy', optimizer='adam', metrics=['accuracy'])\n",
    "\n",
    "model.summary()\n",
    "#plot_model(model, show_shapes=True)\n",
    "\n",
    "# Early Stopping Callback\n",
    "early_stopping = EarlyStopping(patience=3, restore_best_weights=True)\n",
    "\n",
    "epochs = 10\n",
    "batch_size = 16\n",
    "history = model.fit(X_train_pd, y_train, epochs=epochs, batch_size=batch_size, validation_split=0.2, callbacks=[early_stopping])\n",
    "\n",
    "plot_model_learning(history, 'LSTM')"
   ]
  },
  {
   "cell_type": "code",
   "execution_count": 11,
   "id": "895aa92f",
   "metadata": {
    "execution": {
     "iopub.execute_input": "2024-07-14T13:00:34.601166Z",
     "iopub.status.busy": "2024-07-14T13:00:34.600321Z",
     "iopub.status.idle": "2024-07-14T13:00:46.714586Z",
     "shell.execute_reply": "2024-07-14T13:00:46.713506Z"
    },
    "papermill": {
     "duration": 12.212362,
     "end_time": "2024-07-14T13:00:46.717117",
     "exception": false,
     "start_time": "2024-07-14T13:00:34.504755",
     "status": "completed"
    },
    "tags": []
   },
   "outputs": [
    {
     "name": "stdout",
     "output_type": "stream",
     "text": [
      "\u001b[1m782/782\u001b[0m \u001b[32m━━━━━━━━━━━━━━━━━━━━\u001b[0m\u001b[37m\u001b[0m \u001b[1m5s\u001b[0m 7ms/step\n",
      "                                                    text predicted_sentiment\n",
      "0      My daughter liked it but I was aghast, that a ...                 neg\n",
      "1      I... No words. No words can describe this. I w...                 pos\n",
      "2      this film is basically a poor take on the old ...                 neg\n",
      "3      This is a terrible movie, and I'm not even sur...                 neg\n",
      "4      First of all this movie is a piece of reality ...                 pos\n",
      "...                                                  ...                 ...\n",
      "24995  For one thing, he produced this movie. It has ...                 pos\n",
      "24996  The title comes from an alteration an adolesce...                 pos\n",
      "24997  Christopher Nolan's first film is a 'no budget...                 pos\n",
      "24998  The story is shortly about the faith-lacking b...                 neg\n",
      "24999  I found parts of this movie rather slow, espec...                 neg\n",
      "\n",
      "[25000 rows x 2 columns]\n"
     ]
    }
   ],
   "source": [
    "X_test_data = test_df['text']\n",
    "X_test_seq = tokenizer.texts_to_sequences(X_test_data)\n",
    "X_test_pd = pad_sequences(X_test_seq, maxlen=max_sequence_length)\n",
    "\n",
    "# Make Predictions\n",
    "predictions = model.predict(X_test_pd)\n",
    "\n",
    "# Convert the model's predictions back to sentiment labels\n",
    "predicted_sentiments = [le.classes_[np.argmax(prediction)] for prediction in predictions]\n",
    "\n",
    "# Add the predicted sentiments to the test DataFrame\n",
    "test_df['predicted_sentiment'] = predicted_sentiments\n",
    "\n",
    "# Display or save the results\n",
    "print(test_df[['text', 'predicted_sentiment']])\n",
    "\n",
    "test_df.to_csv(\"predicted.csv\")"
   ]
  },
  {
   "cell_type": "code",
   "execution_count": 12,
   "id": "f61885e2",
   "metadata": {
    "execution": {
     "iopub.execute_input": "2024-07-14T13:00:46.925587Z",
     "iopub.status.busy": "2024-07-14T13:00:46.925195Z",
     "iopub.status.idle": "2024-07-14T13:00:48.187698Z",
     "shell.execute_reply": "2024-07-14T13:00:48.186305Z"
    },
    "papermill": {
     "duration": 1.368154,
     "end_time": "2024-07-14T13:00:48.190171",
     "exception": false,
     "start_time": "2024-07-14T13:00:46.822017",
     "status": "completed"
    },
    "tags": []
   },
   "outputs": [
    {
     "name": "stdout",
     "output_type": "stream",
     "text": [
      "Accuracy: 0.8482\n",
      "Precision: 0.8530\n",
      "Recall: 0.8482\n",
      "F1-score: 0.8477\n"
     ]
    }
   ],
   "source": [
    "from sklearn.metrics import accuracy_score, precision_score, recall_score, f1_score, confusion_matrix\n",
    "\n",
    "# Assuming you have made predictions and added them to the 'test_df' DataFrame as 'predicted_sentiment'\n",
    "\n",
    "# True labels from the test DataFrame\n",
    "true_labels = test_df['sentiment']\n",
    "\n",
    "# Predicted labels\n",
    "predicted_labels = test_df['predicted_sentiment']\n",
    "\n",
    "# Calculate accuracy\n",
    "accuracy = accuracy_score(true_labels, predicted_labels)\n",
    "print(f'Accuracy: {accuracy:.4f}')\n",
    "\n",
    "# Calculate precision, recall, and F1-score\n",
    "precision = precision_score(true_labels, predicted_labels, average='weighted')\n",
    "recall = recall_score(true_labels, predicted_labels, average='weighted')\n",
    "f1 = f1_score(true_labels, predicted_labels, average='weighted')\n",
    "\n",
    "print(f'Precision: {precision:.4f}')\n",
    "print(f'Recall: {recall:.4f}')\n",
    "print(f'F1-score: {f1:.4f}')"
   ]
  },
  {
   "cell_type": "code",
   "execution_count": 13,
   "id": "d5b008f0",
   "metadata": {
    "execution": {
     "iopub.execute_input": "2024-07-14T13:00:48.437846Z",
     "iopub.status.busy": "2024-07-14T13:00:48.436988Z",
     "iopub.status.idle": "2024-07-14T13:00:48.531823Z",
     "shell.execute_reply": "2024-07-14T13:00:48.530912Z"
    },
    "papermill": {
     "duration": 0.241663,
     "end_time": "2024-07-14T13:00:48.533784",
     "exception": false,
     "start_time": "2024-07-14T13:00:48.292121",
     "status": "completed"
    },
    "tags": []
   },
   "outputs": [
    {
     "data": {
      "text/plain": [
       "['neg', 'pos', 'neg', 'neg', 'pos', 'pos', 'pos', 'neg', 'neg', 'neg']"
      ]
     },
     "execution_count": 13,
     "metadata": {},
     "output_type": "execute_result"
    }
   ],
   "source": [
    "list1 = [le.classes_[np.argmax(prediction)] for prediction in predictions]\n",
    "list1[:10]"
   ]
  },
  {
   "cell_type": "code",
   "execution_count": null,
   "id": "ed0130bd",
   "metadata": {
    "papermill": {
     "duration": 0.105496,
     "end_time": "2024-07-14T13:00:48.742178",
     "exception": false,
     "start_time": "2024-07-14T13:00:48.636682",
     "status": "completed"
    },
    "tags": []
   },
   "outputs": [],
   "source": []
  }
 ],
 "metadata": {
  "kaggle": {
   "accelerator": "nvidiaTeslaT4",
   "dataSources": [
    {
     "datasetId": 447516,
     "sourceId": 849658,
     "sourceType": "datasetVersion"
    }
   ],
   "dockerImageVersionId": 30747,
   "isGpuEnabled": true,
   "isInternetEnabled": true,
   "language": "python",
   "sourceType": "notebook"
  },
  "kernelspec": {
   "display_name": "Python 3",
   "language": "python",
   "name": "python3"
  },
  "language_info": {
   "codemirror_mode": {
    "name": "ipython",
    "version": 3
   },
   "file_extension": ".py",
   "mimetype": "text/x-python",
   "name": "python",
   "nbconvert_exporter": "python",
   "pygments_lexer": "ipython3",
   "version": "3.10.13"
  },
  "papermill": {
   "default_parameters": {},
   "duration": 122.46794,
   "end_time": "2024-07-14T13:00:51.806530",
   "environment_variables": {},
   "exception": null,
   "input_path": "__notebook__.ipynb",
   "output_path": "__notebook__.ipynb",
   "parameters": {},
   "start_time": "2024-07-14T12:58:49.338590",
   "version": "2.5.0"
  }
 },
 "nbformat": 4,
 "nbformat_minor": 5
}
