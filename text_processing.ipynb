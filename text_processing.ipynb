{
  "cells": [
    {
      "cell_type": "code",
      "execution_count": 1,
      "id": "4c4fda74",
      "metadata": {
        "id": "4c4fda74"
      },
      "outputs": [],
      "source": [
        "import pandas as pd\n",
        "import numpy as np"
      ]
    },
    {
      "cell_type": "code",
      "execution_count": 3,
      "id": "0e2b3943",
      "metadata": {
        "id": "0e2b3943"
      },
      "outputs": [],
      "source": [
        "import pandas as pd\n",
        "\n",
        "# Load the dataset\n",
        "df = pd.read_csv('IMDB Dataset.csv')\n",
        "\n",
        "# Split the dataset into training and testing sets\n",
        "train_df = df[:25000]\n",
        "test_df = df[25000:]"
      ]
    },
    {
      "cell_type": "code",
      "execution_count": 4,
      "id": "4be89915",
      "metadata": {
        "id": "4be89915"
      },
      "outputs": [],
      "source": [
        "from tensorflow.keras.preprocessing.text import Tokenizer\n",
        "from tensorflow.keras.preprocessing.sequence import pad_sequences\n",
        "\n",
        "# Tokenize the text data\n",
        "tokenizer = Tokenizer(num_words=5000)\n",
        "tokenizer.fit_on_texts(train_df['review'])\n",
        "\n",
        "# Convert text to numerical sequences\n",
        "X_train = tokenizer.texts_to_sequences(train_df['review'])\n",
        "X_test = tokenizer.texts_to_sequences(test_df['review'])\n",
        "\n",
        "# Pad sequences to have the same length\n",
        "X_train = pad_sequences(X_train, maxlen=300)\n",
        "X_test = pad_sequences(X_test, maxlen=300)\n",
        "\n",
        "# Map labels to binary values (0: negative, 1: positive)\n",
        "y_train = train_df['sentiment'].map({'negative': 0, 'positive': 1})\n",
        "y_test = test_df['sentiment'].map({'negative': 0, 'positive': 1})\n"
      ]
    },
    {
      "cell_type": "code",
      "execution_count": 5,
      "id": "d1fac2ce",
      "metadata": {
        "colab": {
          "base_uri": "https://localhost:8080/"
        },
        "id": "d1fac2ce",
        "outputId": "0ea5a2d8-15d6-4281-e2f0-53ccdbee2e3a"
      },
      "outputs": [
        {
          "output_type": "stream",
          "name": "stdout",
          "text": [
            "Epoch 1/15\n",
            "391/391 [==============================] - 63s 142ms/step - loss: 0.4438 - accuracy: 0.7865 - val_loss: 0.3241 - val_accuracy: 0.8665\n",
            "Epoch 2/15\n",
            "391/391 [==============================] - 25s 63ms/step - loss: 0.2663 - accuracy: 0.8948 - val_loss: 0.3000 - val_accuracy: 0.8788\n",
            "Epoch 3/15\n",
            "391/391 [==============================] - 15s 38ms/step - loss: 0.2343 - accuracy: 0.9115 - val_loss: 0.3063 - val_accuracy: 0.8732\n",
            "Epoch 4/15\n",
            "391/391 [==============================] - 13s 33ms/step - loss: 0.1909 - accuracy: 0.9298 - val_loss: 0.3326 - val_accuracy: 0.8769\n",
            "Epoch 5/15\n",
            "391/391 [==============================] - 10s 27ms/step - loss: 0.1760 - accuracy: 0.9344 - val_loss: 0.4869 - val_accuracy: 0.8573\n",
            "Epoch 6/15\n",
            "391/391 [==============================] - 12s 30ms/step - loss: 0.1438 - accuracy: 0.9476 - val_loss: 0.3577 - val_accuracy: 0.8669\n",
            "Epoch 7/15\n",
            "391/391 [==============================] - 9s 23ms/step - loss: 0.1579 - accuracy: 0.9417 - val_loss: 0.3635 - val_accuracy: 0.8715\n",
            "Epoch 8/15\n",
            "391/391 [==============================] - 10s 26ms/step - loss: 0.1171 - accuracy: 0.9586 - val_loss: 0.4522 - val_accuracy: 0.8669\n",
            "Epoch 9/15\n",
            "391/391 [==============================] - 10s 25ms/step - loss: 0.0957 - accuracy: 0.9681 - val_loss: 0.4878 - val_accuracy: 0.8680\n",
            "Epoch 10/15\n",
            "391/391 [==============================] - 9s 23ms/step - loss: 0.0945 - accuracy: 0.9680 - val_loss: 0.4437 - val_accuracy: 0.8614\n",
            "Epoch 11/15\n",
            "391/391 [==============================] - 7s 19ms/step - loss: 0.0710 - accuracy: 0.9777 - val_loss: 0.4950 - val_accuracy: 0.8546\n",
            "Epoch 12/15\n",
            "391/391 [==============================] - 9s 24ms/step - loss: 0.0647 - accuracy: 0.9796 - val_loss: 0.5774 - val_accuracy: 0.8607\n",
            "Epoch 13/15\n",
            "391/391 [==============================] - 9s 22ms/step - loss: 0.0757 - accuracy: 0.9761 - val_loss: 0.5067 - val_accuracy: 0.8449\n",
            "Epoch 14/15\n",
            "391/391 [==============================] - 10s 25ms/step - loss: 0.0624 - accuracy: 0.9815 - val_loss: 0.5261 - val_accuracy: 0.8550\n",
            "Epoch 15/15\n",
            "391/391 [==============================] - 8s 21ms/step - loss: 0.0496 - accuracy: 0.9845 - val_loss: 0.5638 - val_accuracy: 0.8609\n"
          ]
        },
        {
          "output_type": "execute_result",
          "data": {
            "text/plain": [
              "<keras.callbacks.History at 0x7f7d84132170>"
            ]
          },
          "metadata": {},
          "execution_count": 5
        }
      ],
      "source": [
        "from tensorflow.keras.models import Sequential\n",
        "from tensorflow.keras.layers import Embedding, LSTM, Dense\n",
        "\n",
        "# Define the model architecture\n",
        "model = Sequential()\n",
        "model.add(Embedding(5000, 32, input_length=300))\n",
        "model.add(LSTM(100))\n",
        "model.add(Dense(1, activation='sigmoid'))\n",
        "\n",
        "# Compile the model\n",
        "model.compile(loss='binary_crossentropy', optimizer='adam', metrics=['accuracy'])\n",
        "\n",
        "# Train the model\n",
        "model.fit(X_train, y_train, validation_data=(X_test, y_test), epochs=15, batch_size=64)\n"
      ]
    },
    {
      "cell_type": "code",
      "execution_count": 6,
      "id": "1554482e",
      "metadata": {
        "colab": {
          "base_uri": "https://localhost:8080/"
        },
        "id": "1554482e",
        "outputId": "0d439aeb-9cc4-4b9d-d6e3-7957d8346ac0"
      },
      "outputs": [
        {
          "output_type": "stream",
          "name": "stdout",
          "text": [
            "782/782 [==============================] - 5s 6ms/step - loss: 0.5638 - accuracy: 0.8609\n",
            "Test Accuracy: 0.8608800172805786\n"
          ]
        }
      ],
      "source": [
        "loss, accuracy = model.evaluate(X_test, y_test)\n",
        "print('Test Accuracy:', accuracy)"
      ]
    },
    {
      "cell_type": "code",
      "execution_count": 7,
      "id": "97a3aeb0",
      "metadata": {
        "colab": {
          "base_uri": "https://localhost:8080/"
        },
        "id": "97a3aeb0",
        "outputId": "4528eb2e-c416-4f9f-aa86-a3d0d567313c"
      },
      "outputs": [
        {
          "output_type": "stream",
          "name": "stdout",
          "text": [
            "782/782 [==============================] - 4s 5ms/step\n"
          ]
        }
      ],
      "source": [
        "y_pred = model.predict(X_test)"
      ]
    },
    {
      "cell_type": "code",
      "execution_count": 8,
      "id": "5aa0a06b",
      "metadata": {
        "colab": {
          "base_uri": "https://localhost:8080/"
        },
        "id": "5aa0a06b",
        "outputId": "fd406480-c7af-42d7-c7ac-b886485e5bef"
      },
      "outputs": [
        {
          "output_type": "execute_result",
          "data": {
            "text/plain": [
              "array([[4.2325299e-04],\n",
              "       [5.7147909e-04],\n",
              "       [9.9583697e-01],\n",
              "       ...,\n",
              "       [8.8861525e-01],\n",
              "       [9.8668551e-01],\n",
              "       [1.0730474e-04]], dtype=float32)"
            ]
          },
          "metadata": {},
          "execution_count": 8
        }
      ],
      "source": [
        "y_pred"
      ]
    },
    {
      "cell_type": "code",
      "execution_count": 9,
      "id": "e4416c12",
      "metadata": {
        "id": "e4416c12"
      },
      "outputs": [],
      "source": [
        "# Define the threshold value\n",
        "threshold = 0.5\n",
        "\n",
        "# Convert predicted probabilities to binary values\n",
        "y_pred_binary = [1 if pred >= threshold else 0 for pred in y_pred]"
      ]
    },
    {
      "cell_type": "code",
      "execution_count": 10,
      "id": "644f6c39",
      "metadata": {
        "colab": {
          "base_uri": "https://localhost:8080/"
        },
        "id": "644f6c39",
        "outputId": "85a1cfed-10e4-4083-8cde-81425e5c62f6"
      },
      "outputs": [
        {
          "output_type": "execute_result",
          "data": {
            "text/plain": [
              "[0, 0, 1, 1, 0, 1, 1, 1, 1, 0]"
            ]
          },
          "metadata": {},
          "execution_count": 10
        }
      ],
      "source": [
        "y_pred_binary[0:10]"
      ]
    },
    {
      "cell_type": "code",
      "execution_count": 11,
      "id": "3ed9974f",
      "metadata": {
        "colab": {
          "base_uri": "https://localhost:8080/"
        },
        "id": "3ed9974f",
        "outputId": "69eec5b6-e15a-4252-ceff-a487e1993db2"
      },
      "outputs": [
        {
          "output_type": "execute_result",
          "data": {
            "text/plain": [
              "25000    0\n",
              "25001    0\n",
              "25002    1\n",
              "25003    1\n",
              "25004    0\n",
              "        ..\n",
              "49995    1\n",
              "49996    0\n",
              "49997    0\n",
              "49998    0\n",
              "49999    0\n",
              "Name: sentiment, Length: 25000, dtype: int64"
            ]
          },
          "metadata": {},
          "execution_count": 11
        }
      ],
      "source": [
        "y_test"
      ]
    },
    {
      "cell_type": "code",
      "execution_count": null,
      "id": "6aaf5dd5",
      "metadata": {
        "id": "6aaf5dd5"
      },
      "outputs": [],
      "source": []
    }
  ],
  "metadata": {
    "kernelspec": {
      "display_name": "Python 3",
      "name": "python3"
    },
    "language_info": {
      "codemirror_mode": {
        "name": "ipython",
        "version": 3
      },
      "file_extension": ".py",
      "mimetype": "text/x-python",
      "name": "python",
      "nbconvert_exporter": "python",
      "pygments_lexer": "ipython3",
      "version": "3.7.6"
    },
    "colab": {
      "provenance": [],
      "gpuType": "T4"
    },
    "accelerator": "GPU"
  },
  "nbformat": 4,
  "nbformat_minor": 5
}